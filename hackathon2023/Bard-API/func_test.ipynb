{
 "cells": [
  {
   "cell_type": "code",
   "execution_count": null,
   "metadata": {},
   "outputs": [],
   "source": [
    "from bardapi import Bard"
   ]
  },
  {
   "cell_type": "code",
   "execution_count": null,
   "metadata": {},
   "outputs": [],
   "source": [
    "token = 'xxxxxxx'"
   ]
  },
  {
   "cell_type": "code",
   "execution_count": null,
   "metadata": {},
   "outputs": [],
   "source": [
    "bard = Bard(token=token)\n",
    "bard.get_answer(\"나와 내 동년배들이 좋아하는 뉴진스에 대해서 알려줘\")['content']"
   ]
  },
  {
   "cell_type": "code",
   "execution_count": null,
   "metadata": {},
   "outputs": [],
   "source": [
    "from bardapi import Bard\n",
    "\n",
    "bard = Bard(token=token, language='chinese (simplified)')\n",
    "res = bard.get_answer(\"今天首尔的天气怎么样？\")\n",
    "print(res['content'])"
   ]
  },
  {
   "cell_type": "code",
   "execution_count": null,
   "metadata": {},
   "outputs": [],
   "source": [
    "from bardapi import Bard\n",
    "bard = Bard(token=token)\n",
    "res = bard.get_answer(\"Find me an image of the main entrance of Stanford University.\")\n",
    "res['links'] # Get image links (list)\n",
    "res['images'] # Get images (list)"
   ]
  },
  {
   "cell_type": "code",
   "execution_count": null,
   "metadata": {},
   "outputs": [],
   "source": [
    "from bardapi import Bard\n",
    "bard = Bard(token=token)\n",
    "res = bard.get_answer(\"Find me an image of the main entrance of Stanford University.\")\n",
    "res['links'] # Get image links (list)\n",
    "res['images'] # Get images (list)"
   ]
  },
  {
   "cell_type": "code",
   "execution_count": 2,
   "metadata": {},
   "outputs": [
    {
     "name": "stdout",
     "output_type": "stream",
     "text": [
      "XQhVqoq8lHTI8oZ09DAdXKBTLGrMiT9xv61UNWs51CE6UmY16Qbs-jPWnMm7ciAXtJPopA.\n",
      "<class 'str'>\n",
      "====================================\n",
      "\u001b[44m          Welcome to Chatbot        \u001b[49m\n",
      "====================================\n",
      "If you enter quit, q, or stop, the chat will end.\n",
      "USER: q\n",
      "====================================\n",
      "\u001b[31mChat Ended.\u001b[39m\n",
      "\n",
      "DanielPark's Chat Template\n",
      "====================================\n"
     ]
    }
   ],
   "source": [
    "from bardapi import ChatBard\n",
    "    \n",
    "chat = ChatBard(token='xxxxxxx')\n",
    "chat.start()"
   ]
  },
  {
   "cell_type": "code",
   "execution_count": null,
   "metadata": {},
   "outputs": [],
   "source": [
    "from bardapi import Bard\n",
    "    \n",
    "bard = Bard(token=token, run_code=True)\n",
    "bard.get_answer(\"code a pie chart in python for this data={'blue':25, 'red':30, 'green':30, 'purple':15}\")"
   ]
  },
  {
   "cell_type": "code",
   "execution_count": null,
   "metadata": {},
   "outputs": [],
   "source": [
    "from bardapi import BardAsync \n",
    "    \n",
    "bard = BardAsync(token=token)\n",
    "res = await bard.get_answer(\"What is Metaverse?\")\n",
    "print(res['content'])"
   ]
  },
  {
   "cell_type": "code",
   "execution_count": null,
   "metadata": {},
   "outputs": [],
   "source": [
    "from bardapi import Bard, SESSION_HEADERS\n",
    "import os\n",
    "import requests\n",
    "\n",
    "# Set token\n",
    "token= token\n",
    "\n",
    "# Set session\n",
    "session = requests.Session()\n",
    "session.headers = SESSION_HEADERS\n",
    "session.cookies.set(\"__Secure-1PSID\", token) \n",
    "\n",
    "# Give session and conversation id\n",
    "bard = Bard(token=token, session=session, conversation_id=\"c_1f04f704a788e6e4\", timeout=30)\n",
    "bard.get_answer(\"나와 내 동년배들이 좋아하는 뉴진스에 대해서 알려줘\")['content']"
   ]
  },
  {
   "cell_type": "code",
   "execution_count": 7,
   "metadata": {},
   "outputs": [
    {
     "name": "stdout",
     "output_type": "stream",
     "text": [
      "<re.Match object; span=(772688, 772752), match='https://accounts.google.com/ListAccounts?authuser> <re.Match object; span=(776121, 776186), match='https://accounts.google.com/RotateCookiesPage\"],3>\n",
      "authuser=0&pid=658\n",
      "og_pid: 658\n",
      "Values array: [3, 0, 1, 0, 3701177, 0]\n",
      "rot: 3\n",
      "exp_id: 3701177\n",
      "<!DOCTYPE html><html><body><script src='https://www.gstatic.com/_/mss/boq-identity/_/js/k=boq-identity.IdentityRotateCookiesHttp.ko.vFNyU-Lk-tA.es5.O/am=CAM/d=1/rs=AOaEmlFQpSkPkGpokh2AASCcHGhCfPB_lA/m=hfcr' nonce=\"fwfOvIr5QKiEzxtYQuaRvg\"></script><script nonce=\"fwfOvIr5QKiEzxtYQuaRvg\">init('-7546079642772715825',  658.0 ,  0.0 ,  0.0 ,  600.0 , false )</script></body></html>\n",
      "['-7546079642772715825']\n",
      "New cookies: {'__Secure-1PSIDTS': 'sidts-CjEBNiGH7ldEz633gURuY8PfjdJ4UNDlxnz-8Ii6G_j16helunBkZzzTHkTcyRXfvJvsEAA', 'Domain': '.google.com', 'Expires': 'Thu, 28-Nov-2024 02:01:26 GMT', 'Path': '/', 'Priority': 'HIGH', 'SameParty, __Secure-3PSIDTS': 'sidts-CjEBNiGH7ldEz633gURuY8PfjdJ4UNDlxnz-8Ii6G_j16helunBkZzzTHkTcyRXfvJvsEAA', 'expires': 'Thu, 28-Nov-2024 02:01:26 GMT', 'path': '/', 'domain': '.google.com', 'priority': 'high', 'SameSite': 'none'}\n",
      "sidts-CjEBNiGH7ldEz633gURuY8PfjdJ4UNDlxnz-8Ii6G_j16helunBkZzzTHkTcyRXfvJvsEAA\n",
      "None\n",
      "None\n"
     ]
    }
   ],
   "source": [
    "from bardapi import Bard, SESSION_HEADERS\n",
    "import requests\n",
    "session = requests.Session()\n",
    "token = '-'\n",
    "session.cookies.set(\"__Secure-1PSID\", token)\n",
    "session.cookies.set( \"__Secure-1PSIDCC\", \"-\")\n",
    "session.cookies.set(\"__Secure-1PSIDTS\", \"-\")\n",
    "session.headers = SESSION_HEADERS\n",
    "bard = Bard(token=token, session=session, timeout=30)\n",
    "\n",
    "new_cookies = bard.update_1PSIDTS()\n",
    "print('New cookies:', new_cookies)\n",
    "print(new_cookies.get(\"__Secure-1PSIDTS\"))\n",
    "print(new_cookies.get(\"__Secure-1PSIDCC\"))\n",
    "print(new_cookies.get(\"__Secure-3PSIDTS\"))\n"
   ]
  },
  {
   "cell_type": "code",
   "execution_count": null,
   "metadata": {},
   "outputs": [],
   "source": []
  }
 ],
 "metadata": {
  "kernelspec": {
   "display_name": "cc",
   "language": "python",
   "name": "cc"
  },
  "language_info": {
   "codemirror_mode": {
    "name": "ipython",
    "version": 3
   },
   "file_extension": ".py",
   "mimetype": "text/x-python",
   "name": "python",
   "nbconvert_exporter": "python",
   "pygments_lexer": "ipython3",
   "version": "3.9.12"
  },
  "orig_nbformat": 4
 },
 "nbformat": 4,
 "nbformat_minor": 2
}
