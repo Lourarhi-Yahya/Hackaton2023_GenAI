{
 "cells": [
  {
   "attachments": {},
   "cell_type": "markdown",
   "metadata": {},
   "source": [
    "To get a subscription key for Bing Search APIs, you need to follow these steps:\n",
    "\n",
    " https://www.microsoft.com/en-us/bing/apis/bing-search-apis-portal\n",
    "Sign in with your Microsoft account.\n",
    "Click on the \"Get started\" button.\n",
    "Select the API you want to use.\n",
    "Follow the instructions to create a new resource and get your subscription key.\n",
    "Here's an example Python code snippet that shows how to use the Bing Search API with a subscription key:"
   ]
  },
  {
   "cell_type": "code",
   "execution_count": null,
   "metadata": {},
   "outputs": [],
   "source": [
    "import requests\n",
    "\n",
    "# Specify the endpoint URLs for Bing Spell Check and AutoSuggest APIs\n",
    "spell_check_url = \"https://api.bing.microsoft.com/v7.0/spellcheck\"\n",
    "auto_suggest_url = \"https://api.bing.microsoft.com/v7.0/Suggestions\"\n",
    "\n",
    "# Set your Bing API subscription key\n",
    "subscription_key = \"YOUR_BING_API_SUBSCRIPTION_KEY\"\n",
    "\n",
    "# Set your query text\n",
    "query = \"Hello, how are yuo?\"\n",
    "\n",
    "# Spell Check API request\n",
    "spell_check_params = {\n",
    "    \"text\": query,\n",
    "    \"mode\": \"proof\",\n",
    "}\n",
    "\n",
    "spell_check_headers = {\n",
    "    \"Content-Type\": \"application/x-www-form-urlencoded\",\n",
    "    \"Ocp-Apim-Subscription-Key\": subscription_key,\n",
    "}\n",
    "\n",
    "spell_check_response = requests.post(spell_check_url, params=spell_check_params, headers=spell_check_headers)\n",
    "spell_check_data = spell_check_response.json()\n",
    "\n",
    "# Get the corrected query from the Spell Check API response\n",
    "corrected_query = spell_check_data[\"flaggedTokens\"][0][\"suggestions\"][0][\"suggestion\"]\n",
    "\n",
    "# AutoSuggest API request\n",
    "auto_suggest_params = {\n",
    "    \"q\": corrected_query,\n",
    "    \"mkt\": \"en-US\",\n",
    "}\n",
    "\n",
    "auto_suggest_headers = {\n",
    "    \"Ocp-Apim-Subscription-Key\": subscription_key,\n",
    "}\n",
    "\n",
    "auto_suggest_response = requests.get(auto_suggest_url, params=auto_suggest_params, headers=auto_suggest_headers)\n",
    "auto_suggest_data = auto_suggest_response.json()\n",
    "\n",
    "# Get the suggested queries from the AutoSuggest API response\n",
    "suggested_queries = [suggestion[\"displayText\"] for suggestion in auto_suggest_data[\"suggestionGroups\"][0][\"searchSuggestions\"]]\n",
    "\n",
    "# Print the results\n",
    "print(\"Corrected Query: \", corrected_query)\n",
    "print(\"Suggested Queries: \", suggested_queries)"
   ]
  }
 ],
 "metadata": {
  "language_info": {
   "name": "python"
  },
  "orig_nbformat": 4
 },
 "nbformat": 4,
 "nbformat_minor": 2
}
